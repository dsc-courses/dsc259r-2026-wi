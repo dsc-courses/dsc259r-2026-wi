{
 "cells": [
  {
   "cell_type": "code",
   "execution_count": null,
   "id": "8c8a44b8",
   "metadata": {
    "editable": true,
    "slideshow": {
     "slide_type": ""
    },
    "tags": []
   },
   "outputs": [],
   "source": [
    "from dsc80_utils import *"
   ]
  },
  {
   "cell_type": "code",
   "execution_count": null,
   "id": "1e7be011",
   "metadata": {
    "editable": true,
    "slideshow": {
     "slide_type": "skip"
    },
    "tags": []
   },
   "outputs": [],
   "source": [
    "# Pandas Tutor setup\n",
    "%reload_ext pandas_tutor\n",
    "%set_pandas_tutor_options {\"maxDisplayCols\": 8, \"nohover\": True, \"projectorMode\": True}\n",
    "import warnings\n",
    "warnings.simplefilter(action='ignore', category=FutureWarning)"
   ]
  },
  {
   "cell_type": "markdown",
   "id": "ce9e66d9",
   "metadata": {
    "editable": true,
    "slideshow": {
     "slide_type": "slide"
    },
    "tags": []
   },
   "source": [
    "# Lecture 4 – Merging, Transforming"
   ]
  },
  {
   "cell_type": "markdown",
   "id": "f1c62543",
   "metadata": {
    "editable": true,
    "slideshow": {
     "slide_type": "slide"
    },
    "tags": []
   },
   "source": [
    "## Merging"
   ]
  },
  {
   "cell_type": "markdown",
   "id": "4ec22b96",
   "metadata": {
    "editable": true,
    "slideshow": {
     "slide_type": "slide"
    },
    "tags": []
   },
   "source": [
    "### Example: Name categories\n",
    "\n",
    "This [New York Times article](https://archive.is/NpORG) claims that certain categories of names are becoming more popular. For example:\n",
    "\n",
    "- Forbidden names like Lucifer, Lilith, Kali, and Danger.\n",
    "\n",
    "- Evangelical names like Amen, Savior, Canaan, and Creed.\n",
    "\n",
    "- Mythological names.\n",
    "\n",
    "- It also claims that baby boomer names are becoming less popular.\n",
    "\n",
    "Let's see if we can verify these claims using data!"
   ]
  },
  {
   "cell_type": "markdown",
   "id": "2fdf7395",
   "metadata": {
    "editable": true,
    "slideshow": {
     "slide_type": "slide"
    },
    "tags": []
   },
   "source": [
    "### Loading in the data\n",
    "\n",
    "Our first DataFrame, `baby`, has one row for every combination of `'Name'`, `'Sex'`, and `'Year'`."
   ]
  },
  {
   "cell_type": "code",
   "execution_count": null,
   "id": "e05bad6f",
   "metadata": {
    "editable": true,
    "slideshow": {
     "slide_type": ""
    },
    "tags": []
   },
   "outputs": [],
   "source": [
    "baby_path = Path('data') / 'baby.csv'\n",
    "baby = pd.read_csv(baby_path)\n",
    "baby"
   ]
  },
  {
   "cell_type": "markdown",
   "id": "f2d7eaeb",
   "metadata": {
    "editable": true,
    "slideshow": {
     "slide_type": "fragment"
    },
    "tags": []
   },
   "source": [
    "Our second DataFrame, `nyt`, contains the New York Times' categorization of each of several names, based on the aforementioned article."
   ]
  },
  {
   "cell_type": "code",
   "execution_count": null,
   "id": "f60eca7e",
   "metadata": {
    "editable": true,
    "slideshow": {
     "slide_type": ""
    },
    "tags": []
   },
   "outputs": [],
   "source": [
    "nyt_path = Path('data') / 'nyt_names.csv'\n",
    "nyt = pd.read_csv(nyt_path)\n",
    "nyt"
   ]
  },
  {
   "cell_type": "markdown",
   "id": "6e384d81",
   "metadata": {
    "editable": true,
    "slideshow": {
     "slide_type": "fragment"
    },
    "tags": []
   },
   "source": [
    "**Issue**: To find the number of babies born with (for example) forbidden names each year, we need to combine information from both `baby` and `nyt`."
   ]
  },
  {
   "cell_type": "markdown",
   "id": "efe49a7d",
   "metadata": {
    "editable": true,
    "slideshow": {
     "slide_type": "slide"
    },
    "tags": []
   },
   "source": [
    "### Merging\n",
    "\n",
    "- We want to link rows from `baby` and `nyt` together whenever the names match up.\n",
    "- This is a **merge** (`pandas` term), i.e. a **join** (SQL term).\n",
    "- A merge is appropriate when we have two sources of information **about the same individuals** that is **linked by a common column(s)**.\n",
    "- The common column(s) are called the **join key**."
   ]
  },
  {
   "cell_type": "markdown",
   "id": "4d99d927",
   "metadata": {
    "editable": true,
    "slideshow": {
     "slide_type": "slide"
    },
    "tags": []
   },
   "source": [
    "### Example merge\n",
    "\n",
    "Let's demonstrate on a small subset of `baby` and `nyt`."
   ]
  },
  {
   "cell_type": "code",
   "execution_count": null,
   "id": "abff9e98",
   "metadata": {
    "editable": true,
    "slideshow": {
     "slide_type": ""
    },
    "tags": []
   },
   "outputs": [],
   "source": [
    "nyt_small = nyt.iloc[[11, 12, 14]].reset_index(drop=True)\n",
    "\n",
    "names_to_keep = ['Julius', 'Karen', 'Noah']\n",
    "baby_small = (baby\n",
    " .query(\"Year == 2020 and Name in @names_to_keep\")\n",
    " .reset_index(drop=True)\n",
    ")\n",
    "\n",
    "dfs_side_by_side(baby_small, nyt_small)"
   ]
  },
  {
   "cell_type": "code",
   "execution_count": null,
   "id": "21686fc2",
   "metadata": {
    "editable": true,
    "slideshow": {
     "slide_type": ""
    },
    "tags": []
   },
   "outputs": [],
   "source": [
    "%%pt\n",
    "baby_small.merge(nyt_small, left_on='Name', right_on='nyt_name')"
   ]
  },
  {
   "cell_type": "markdown",
   "id": "e43c4eaa",
   "metadata": {
    "editable": true,
    "slideshow": {
     "slide_type": "slide"
    },
    "tags": []
   },
   "source": [
    "### The `merge` method\n",
    "\n",
    "- The `merge` DataFrame method joins two DataFrames by columns or indexes.\n",
    "    - As mentioned before, \"merge\" is just the `pandas` word for \"join.\"\n",
    "\n",
    "- When using the `merge` method, the DataFrame before `merge` is the \"left\" DataFrame, and the DataFrame passed into `merge` is the \"right\" DataFrame.\n",
    "    - In `baby_small.merge(nyt_small)`, `baby_small` is considered the \"left\" DataFrame and `nyt_small` is the \"right\" DataFrame; the columns from the left DataFrame appear to the left of the columns from right DataFrame.\n",
    "\n",
    "- By default:\n",
    "    - If join keys are not specified, all shared columns between the two DataFrames are used.\n",
    "    - The \"type\" of join performed is an inner join. "
   ]
  },
  {
   "cell_type": "markdown",
   "id": "31ac2b87",
   "metadata": {
    "editable": true,
    "slideshow": {
     "slide_type": "slide"
    },
    "tags": []
   },
   "source": [
    "### Join types: inner joins"
   ]
  },
  {
   "cell_type": "code",
   "execution_count": null,
   "id": "2206e6f8",
   "metadata": {
    "editable": true,
    "slideshow": {
     "slide_type": ""
    },
    "tags": []
   },
   "outputs": [],
   "source": [
    "%%pt\n",
    "baby_small.merge(nyt_small, left_on='Name', right_on='nyt_name')"
   ]
  },
  {
   "cell_type": "markdown",
   "id": "37df10ce",
   "metadata": {
    "editable": true,
    "slideshow": {
     "slide_type": ""
    },
    "tags": []
   },
   "source": [
    "- Note that `'Noah'` and `'Freya'` do not appear in the merged DataFrame.\n",
    "- This is because there is:\n",
    "    - no `'Noah'` in the right DataFrame (`nyt_small`), and\n",
    "    - no `'Freya'` in the left DataFrame (`baby_small`).\n",
    "- The default type of join that `merge` performs is an **inner join**, which keeps the **intersection** of the join keys.\n",
    "\n",
    "\n",
    "<center><img src='imgs/image_0.png' width=20%></center>"
   ]
  },
  {
   "cell_type": "markdown",
   "id": "bc3f811b",
   "metadata": {
    "editable": true,
    "slideshow": {
     "slide_type": "slide"
    },
    "tags": []
   },
   "source": [
    "### Different join types\n",
    "\n",
    "We can change the type of join performed by changing the `how` argument in `merge`. Let's experiment!"
   ]
  },
  {
   "cell_type": "code",
   "execution_count": null,
   "id": "5edc6919",
   "metadata": {
    "editable": true,
    "slideshow": {
     "slide_type": ""
    },
    "tags": []
   },
   "outputs": [],
   "source": [
    "%%pt\n",
    "# Note the NaNs!\n",
    "baby_small.merge(nyt_small, left_on='Name', right_on='nyt_name', how='left')"
   ]
  },
  {
   "cell_type": "code",
   "execution_count": null,
   "id": "00f81ba5",
   "metadata": {
    "editable": true,
    "slideshow": {
     "slide_type": ""
    },
    "tags": []
   },
   "outputs": [],
   "source": [
    "%%pt\n",
    "baby_small.merge(nyt_small, left_on='Name', right_on='nyt_name', how='right')"
   ]
  },
  {
   "cell_type": "code",
   "execution_count": null,
   "id": "7b7e30fa",
   "metadata": {
    "editable": true,
    "slideshow": {
     "slide_type": ""
    },
    "tags": []
   },
   "outputs": [],
   "source": [
    "%%pt\n",
    "baby_small.merge(nyt_small, left_on='Name', right_on='nyt_name', how='outer')"
   ]
  },
  {
   "cell_type": "markdown",
   "id": "dac15f23",
   "metadata": {
    "editable": true,
    "slideshow": {
     "slide_type": "slide"
    },
    "tags": []
   },
   "source": [
    "### Different join types handle mismatches differently\n",
    "\n",
    "There are four types of joins.\n",
    "\n",
    "* **Inner**: keep **only** matching keys (intersection).\n",
    "* **Outer**: keep **all** keys in both DataFrames (union).\n",
    "* **Left**: keep all keys in the left DataFrame, whether or not they are in the right DataFrame.\n",
    "* **Right**: keep all keys in the right DataFrame, whether or not they are in the left DataFrame.\n",
    "    * Note that `a.merge(b, how='left')` contains the same information as `b.merge(a, how='right')`, just in a different order.\n",
    "\n",
    "<center><img src='imgs/image_1.png' width=30%></center>"
   ]
  },
  {
   "cell_type": "markdown",
   "id": "ad42404e",
   "metadata": {
    "editable": true,
    "slideshow": {
     "slide_type": "slide"
    },
    "tags": []
   },
   "source": [
    "### Notes on the `merge` method\n",
    "\n",
    "- `merge` is flexible – you can merge using a combination of columns, or the index of the DataFrame.\n",
    "-  If the two DataFrames have the same column names, `pandas` will add `_x` and `_y` to the duplicated column names to avoid having columns with the same name (change these the `suffixes` argument).\n",
    "- There is, in fact, a `join` method, but it's actually a wrapper around `merge` with fewer options.\n",
    "- **As always, the [documentation](https://pandas.pydata.org/docs/reference/api/pandas.DataFrame.merge.html) is your friend!**"
   ]
  },
  {
   "cell_type": "markdown",
   "id": "f1a19a91",
   "metadata": {
    "editable": true,
    "slideshow": {
     "slide_type": "slide"
    },
    "tags": []
   },
   "source": [
    "### Lots of `pandas` operations do an implicit outer join!\n",
    "\n",
    "- `pandas` will almost always try to match up index values using an outer join.\n",
    "- It won't tell you that it's doing an outer join, it'll just throw `NaN`s in your result!"
   ]
  },
  {
   "cell_type": "code",
   "execution_count": null,
   "id": "c823f754",
   "metadata": {
    "editable": true,
    "slideshow": {
     "slide_type": ""
    },
    "tags": []
   },
   "outputs": [],
   "source": [
    "df1 = pd.DataFrame({'a': [1, 2, 3]}, index=['hello', 'dsc80', 'students'])\n",
    "df2 = pd.DataFrame({'b': [10, 20, 30]}, index=['dsc80', 'is', 'awesome'])\n",
    "dfs_side_by_side(df1, df2)"
   ]
  },
  {
   "cell_type": "code",
   "execution_count": null,
   "id": "2cd8c3c5",
   "metadata": {
    "editable": true,
    "slideshow": {
     "slide_type": ""
    },
    "tags": []
   },
   "outputs": [],
   "source": [
    "df1['a'] + df2['b']"
   ]
  },
  {
   "cell_type": "markdown",
   "id": "7c9059bc",
   "metadata": {
    "editable": true,
    "slideshow": {
     "slide_type": "slide"
    },
    "tags": []
   },
   "source": [
    "## Many-to-one & many-to-many joins"
   ]
  },
  {
   "cell_type": "markdown",
   "id": "fa7eae26",
   "metadata": {
    "editable": true,
    "slideshow": {
     "slide_type": "slide"
    },
    "tags": []
   },
   "source": [
    "### One-to-one joins\n",
    "\n",
    "- So far in this lecture, the joins we have worked with are called **one-to-one** joins.\n",
    "- Neither the left DataFrame (`baby_small`) nor the right DataFrame (`nyt_small`) contained any duplicates in the join key.\n",
    "- What if there are duplicated join keys, in one or both of the DataFrames we are merging?"
   ]
  },
  {
   "cell_type": "code",
   "execution_count": null,
   "id": "38e5378a",
   "metadata": {
    "editable": true,
    "slideshow": {
     "slide_type": "slide"
    },
    "tags": []
   },
   "outputs": [],
   "source": [
    "# Run this cell to set up the next example.\n",
    "profs = pd.DataFrame(\n",
    "[['Sam', 'UCB', 5],\n",
    " ['Sam', 'UCSD', 5],\n",
    " ['Janine', 'UCSD', 8],\n",
    " ['Marina', 'UIC', 7],\n",
    " ['Justin', 'OSU', 5],\n",
    " ['Soohyun', 'UCSD', 2],\n",
    " ['Suraj', 'UCB', 2]],\n",
    "    columns=['Name', 'School', 'Years']\n",
    ")\n",
    "\n",
    "schools = pd.DataFrame({\n",
    "    'Abr': ['UCSD', 'UCLA', 'UCB', 'UIC'],\n",
    "    'Full': ['University of California San Diego', 'University of California, Los Angeles', 'University of California, Berkeley', 'University of Illinois Chicago']\n",
    "})\n",
    "\n",
    "programs = pd.DataFrame({\n",
    "    'uni': ['UCSD', 'UCSD', 'UCSD', 'UCB', 'OSU', 'OSU'],\n",
    "    'dept': ['Math', 'HDSI', 'COGS', 'CS', 'Math', 'CS'],\n",
    "    'grad_students': [205, 54, 281, 439, 304, 193]\n",
    "})"
   ]
  },
  {
   "cell_type": "markdown",
   "id": "4801c5d8",
   "metadata": {
    "editable": true,
    "slideshow": {
     "slide_type": "slide"
    },
    "tags": []
   },
   "source": [
    "### Many-to-one joins\n",
    "\n",
    "- Many-to-one joins are joins where **one** of the DataFrames contains duplicate values in the join key. \n",
    "- The resulting DataFrame will preserve those duplicate entries as appropriate. "
   ]
  },
  {
   "cell_type": "code",
   "execution_count": null,
   "id": "e7e7d4ab",
   "metadata": {
    "editable": true,
    "slideshow": {
     "slide_type": ""
    },
    "tags": []
   },
   "outputs": [],
   "source": [
    "dfs_side_by_side(profs, schools)"
   ]
  },
  {
   "cell_type": "markdown",
   "id": "9bac6107",
   "metadata": {
    "editable": true,
    "slideshow": {
     "slide_type": ""
    },
    "tags": []
   },
   "source": [
    "Note that when merging `profs` and `schools`, the information from `schools` is duplicated.\n",
    "- `'University of California, San Diego'` appears three times.\n",
    "- `'University of California, Berkeley'` appears twice."
   ]
  },
  {
   "cell_type": "code",
   "execution_count": null,
   "id": "23a18661",
   "metadata": {
    "editable": true,
    "slideshow": {
     "slide_type": ""
    },
    "tags": []
   },
   "outputs": [],
   "source": [
    "%%pt\n",
    "profs.merge(schools, left_on='School', right_on='Abr', how='left')"
   ]
  },
  {
   "cell_type": "markdown",
   "id": "7f6c7090",
   "metadata": {
    "editable": true,
    "slideshow": {
     "slide_type": "slide"
    },
    "tags": []
   },
   "source": [
    "### Many-to-many joins\n",
    "\n",
    "Many-to-many joins are joins where both DataFrames have duplicate values in the join key."
   ]
  },
  {
   "cell_type": "code",
   "execution_count": null,
   "id": "3942476b",
   "metadata": {
    "editable": true,
    "slideshow": {
     "slide_type": ""
    },
    "tags": []
   },
   "outputs": [],
   "source": [
    "dfs_side_by_side(profs, programs)"
   ]
  },
  {
   "cell_type": "markdown",
   "id": "8cd14679",
   "metadata": {
    "editable": true,
    "slideshow": {
     "slide_type": ""
    },
    "tags": []
   },
   "source": [
    "Before running the following cell, try predicting the number of rows in the output."
   ]
  },
  {
   "cell_type": "code",
   "execution_count": null,
   "id": "aa4fb512",
   "metadata": {
    "editable": true,
    "slideshow": {
     "slide_type": ""
    },
    "tags": []
   },
   "outputs": [],
   "source": [
    "%%pt\n",
    "profs.merge(programs, left_on='School', right_on='uni')"
   ]
  },
  {
   "cell_type": "markdown",
   "id": "3f6525c8",
   "metadata": {
    "editable": true,
    "slideshow": {
     "slide_type": ""
    },
    "tags": []
   },
   "source": [
    "- `merge` stitched together every UCSD row in `profs` with every UCSD row in `programs`. \n",
    "- Since there were 3 UCSD rows in `profs` and 3 in `programs`, there are $3 \\cdot 3 = 9$ UCSD rows in the output. The same applies for all other schools."
   ]
  },
  {
   "cell_type": "markdown",
   "id": "50e5db5f",
   "metadata": {
    "editable": true,
    "slideshow": {
     "slide_type": "slide"
    },
    "tags": []
   },
   "source": [
    "<div class=\"alert alert-warning\">\n",
    "    <h3>Question 🤔</h3>\n",
    "\n",
    "\n",
    "</div>\n",
    "    \n",
    "Fill in the blank so that the last statement evaluates to `True`.\n",
    "\n",
    "```python\n",
    "df = profs.merge(programs, left_on='School', right_on='uni')\n",
    "df.shape[0] == (____).sum()\n",
    "```\n",
    "\n",
    "**Don't** use `merge` (or `join`) in your solution!\n"
   ]
  },
  {
   "cell_type": "code",
   "execution_count": null,
   "id": "ee0c1851",
   "metadata": {
    "editable": true,
    "slideshow": {
     "slide_type": ""
    },
    "tags": []
   },
   "outputs": [],
   "source": [
    "dfs_side_by_side(profs, programs)"
   ]
  },
  {
   "cell_type": "code",
   "execution_count": null,
   "id": "56f90816",
   "metadata": {
    "editable": true,
    "slideshow": {
     "slide_type": ""
    },
    "tags": []
   },
   "outputs": [],
   "source": [
    "# Your code goes here."
   ]
  },
  {
   "cell_type": "markdown",
   "id": "a7df399c",
   "metadata": {
    "editable": true,
    "slideshow": {
     "slide_type": "slide"
    },
    "tags": []
   },
   "source": [
    "### Returning back to our original question\n",
    "\n",
    "Let's find the popularity of baby name categories over time. To start, we'll define a DataFrame that has one row for every combination of `'category'` and `'Year'`."
   ]
  },
  {
   "cell_type": "code",
   "execution_count": null,
   "id": "df991fd7",
   "metadata": {
    "editable": true,
    "slideshow": {
     "slide_type": ""
    },
    "tags": []
   },
   "outputs": [],
   "source": [
    "cate_counts = (\n",
    "    baby\n",
    "    .merge(nyt, left_on='Name', right_on='nyt_name')\n",
    "    .groupby(['category', 'Year'])\n",
    "    ['Count']\n",
    "    .sum()\n",
    "    .reset_index()\n",
    ")\n",
    "cate_counts"
   ]
  },
  {
   "cell_type": "code",
   "execution_count": null,
   "id": "03159ce1",
   "metadata": {
    "editable": true,
    "slideshow": {
     "slide_type": ""
    },
    "tags": []
   },
   "outputs": [],
   "source": [
    "# We'll talk about plotting code soon!\n",
    "import plotly.express as px\n",
    "fig = px.line(cate_counts, x='Year', y='Count',\n",
    "              facet_col='category', facet_col_wrap=3,\n",
    "              facet_row_spacing=0.15,\n",
    "              width=600, height=400)\n",
    "fig.update_yaxes(matches=None, showticklabels=False)"
   ]
  },
  {
   "cell_type": "markdown",
   "id": "e3c4a816",
   "metadata": {
    "editable": true,
    "slideshow": {
     "slide_type": "slide"
    },
    "tags": []
   },
   "source": [
    "## Transforming"
   ]
  },
  {
   "cell_type": "markdown",
   "id": "64bb8b20",
   "metadata": {
    "editable": true,
    "slideshow": {
     "slide_type": "slide"
    },
    "tags": []
   },
   "source": [
    "### Transforming values\n",
    "\n",
    "- A **transformation** results from performing some operation on every element in a sequence, e.g. a Series.\n",
    "\n",
    "- To do this, we'll typically use the `apply` method. `apply` is very flexible – it takes in a function, which itself takes in a single value as input and returns a single value."
   ]
  },
  {
   "cell_type": "code",
   "execution_count": null,
   "id": "8c368e07",
   "metadata": {
    "editable": true,
    "slideshow": {
     "slide_type": ""
    },
    "tags": []
   },
   "outputs": [],
   "source": [
    "baby"
   ]
  },
  {
   "cell_type": "code",
   "execution_count": null,
   "id": "963201ff",
   "metadata": {
    "editable": true,
    "slideshow": {
     "slide_type": ""
    },
    "tags": []
   },
   "outputs": [],
   "source": [
    "def number_of_vowels(string):\n",
    "    return sum(c in 'aeiou' for c in string.lower())\n",
    "\n",
    "baby['Name'].apply(number_of_vowels)"
   ]
  },
  {
   "cell_type": "code",
   "execution_count": null,
   "id": "d8a89fed",
   "metadata": {
    "editable": true,
    "slideshow": {
     "slide_type": ""
    },
    "tags": []
   },
   "outputs": [],
   "source": [
    "# Built-in functions work with apply, too.\n",
    "baby['Name'].apply(len)"
   ]
  },
  {
   "cell_type": "markdown",
   "id": "857996c4",
   "metadata": {
    "editable": true,
    "slideshow": {
     "slide_type": "slide"
    },
    "tags": []
   },
   "source": [
    "### The price of `apply`\n",
    "\n",
    "Unfortunately, `apply` runs really slowly!"
   ]
  },
  {
   "cell_type": "code",
   "execution_count": null,
   "id": "995da2be",
   "metadata": {
    "editable": true,
    "slideshow": {
     "slide_type": ""
    },
    "tags": []
   },
   "outputs": [],
   "source": [
    "%%timeit\n",
    "baby['Name'].apply(number_of_vowels)"
   ]
  },
  {
   "cell_type": "code",
   "execution_count": null,
   "id": "f698c9b0",
   "metadata": {
    "editable": true,
    "slideshow": {
     "slide_type": ""
    },
    "tags": []
   },
   "outputs": [],
   "source": [
    "%%timeit\n",
    "res = []\n",
    "for name in baby['Name']:\n",
    "    res.append(number_of_vowels(name))"
   ]
  },
  {
   "cell_type": "markdown",
   "id": "cb249fb8",
   "metadata": {
    "editable": true,
    "slideshow": {
     "slide_type": "fragment"
    },
    "tags": []
   },
   "source": [
    "**Internally, `apply` actually just runs a `for`-loop!**\n",
    "\n",
    "**So, when possible – say, when applying arithmetic operations – we should work on Series objects directly and avoid `apply`!**"
   ]
  },
  {
   "cell_type": "markdown",
   "id": "a4d63fb5",
   "metadata": {
    "editable": true,
    "slideshow": {
     "slide_type": "slide"
    },
    "tags": []
   },
   "source": [
    "### The price of `apply`"
   ]
  },
  {
   "cell_type": "code",
   "execution_count": null,
   "id": "43ec65ed",
   "metadata": {
    "editable": true,
    "slideshow": {
     "slide_type": ""
    },
    "tags": []
   },
   "outputs": [],
   "source": [
    "%%timeit\n",
    "baby['Year'] // 10 * 10 # Rounds down to the nearest multiple of 10."
   ]
  },
  {
   "cell_type": "code",
   "execution_count": null,
   "id": "610c3a09",
   "metadata": {
    "editable": true,
    "slideshow": {
     "slide_type": ""
    },
    "tags": []
   },
   "outputs": [],
   "source": [
    "%%timeit\n",
    "baby['Year'].apply(lambda y: y // 10 * 10)"
   ]
  },
  {
   "cell_type": "markdown",
   "id": "5c941d3f",
   "metadata": {
    "editable": true,
    "slideshow": {
     "slide_type": "fragment"
    },
    "tags": []
   },
   "source": [
    "**100x slower!**"
   ]
  },
  {
   "cell_type": "markdown",
   "id": "92cbd53e",
   "metadata": {
    "editable": true,
    "slideshow": {
     "slide_type": "slide"
    },
    "tags": []
   },
   "source": [
    "### The `.str` accessor\n",
    "\n",
    "For string operations, `pandas` provides a convenient `.str` accessor."
   ]
  },
  {
   "cell_type": "code",
   "execution_count": null,
   "id": "6d5ee7d9",
   "metadata": {
    "editable": true,
    "slideshow": {
     "slide_type": ""
    },
    "tags": []
   },
   "outputs": [],
   "source": [
    "%%timeit\n",
    "baby['Name'].str.len()"
   ]
  },
  {
   "cell_type": "code",
   "execution_count": null,
   "id": "4d4b803b",
   "metadata": {
    "editable": true,
    "slideshow": {
     "slide_type": ""
    },
    "tags": []
   },
   "outputs": [],
   "source": [
    "%%timeit\n",
    "baby['Name'].apply(len)"
   ]
  },
  {
   "cell_type": "markdown",
   "id": "5505c40f",
   "metadata": {
    "editable": true,
    "slideshow": {
     "slide_type": "fragment"
    },
    "tags": []
   },
   "source": [
    "It's very convenient and **runs about the same speed as `apply`!**"
   ]
  },
  {
   "cell_type": "markdown",
   "id": "5b989f24",
   "metadata": {
    "editable": true,
    "slideshow": {
     "slide_type": "slide"
    },
    "tags": []
   },
   "source": [
    "## Other data representations"
   ]
  },
  {
   "cell_type": "markdown",
   "id": "62f289f4",
   "metadata": {
    "editable": true,
    "slideshow": {
     "slide_type": "slide"
    },
    "tags": []
   },
   "source": [
    "### Representations of tabular data\n",
    "\n",
    "- In Python, we'll work with DataFrames in `pandas`.\n",
    "    - When we say `pandas` DataFrame, we're talking about the `pandas` API for its DataFrame objects.\n",
    "        - API stands for \"application programming interface.\" We'll learn about these more soon.\n",
    "    - When we say \"DataFrame\", we're referring to a general way to represent data (rows and columns, with labels for both rows and columns).\n",
    "\n",
    "- There many other ways to work with data tables! \n",
    "    - Examples: R data frames, SQL databases, spreadsheets, or even matrices from linear algebra.\n",
    "    - If you know/learn SQL, you'll find many similaries (e.g. slicing columns, filtering rows, grouping, joining, etc.).\n",
    "    - **Relational algebra** captures common data operations between many data table systems.\n",
    "\n",
    "- Why use DataFrames over something else?"
   ]
  },
  {
   "cell_type": "markdown",
   "id": "2e3f5cb6",
   "metadata": {
    "editable": true,
    "slideshow": {
     "slide_type": "slide"
    },
    "tags": []
   },
   "source": [
    "### DataFrames vs. spreadsheets\n",
    "\n",
    "- DataFrames give us a **data lineage**: the code records down data changes. Not so in spreadsheets!\n",
    "- Using a general-purpose programming language gives us the ability to handle much larger datasets, and we can use distributed computing systems to handle massive datasets."
   ]
  },
  {
   "cell_type": "markdown",
   "id": "91460c02",
   "metadata": {
    "editable": true,
    "slideshow": {
     "slide_type": "slide"
    },
    "tags": []
   },
   "source": [
    "### DataFrames vs. matrices\n",
    "\n",
    "\\begin{split}\n",
    "\\begin{aligned}\n",
    "\\mathbf{X} = \\begin{bmatrix}\n",
    "1 & 0 \\\\\n",
    "0 & 4 \\\\\n",
    "0 & 0 \\\\\n",
    "\\end{bmatrix}\n",
    "\\end{aligned}\n",
    "\\end{split}\n",
    "\n",
    "- Matrices are mathematical objects. They only hold numbers, but have many useful properties (which you've learned about in your linear algebra class, Math 18).\n",
    "- Often, we process data from a DataFrame into matrix format for machine learning models. We'll see this more in a few weeks."
   ]
  },
  {
   "cell_type": "markdown",
   "id": "6d2a834c",
   "metadata": {
    "editable": true,
    "slideshow": {
     "slide_type": "slide"
    },
    "tags": []
   },
   "source": [
    "### DataFrames vs. relations\n",
    "\n",
    "- Relations are the data representation for relational database systems (e.g. MySQL, PostgreSQL, etc.).\n",
    "- Database systems are much better than DataFrames at storing **many large** data tables and handling concurrency (many people reading and writing data at the same time).\n",
    "- Common workflow: load a subset of data in from a database system into `pandas`, then make a plot.\n",
    "- Or: load and clean data in `pandas`, then store it in a database system for others to use."
   ]
  },
  {
   "cell_type": "markdown",
   "id": "cb70d254",
   "metadata": {
    "editable": true,
    "slideshow": {
     "slide_type": "slide"
    },
    "tags": []
   },
   "source": [
    "## Summary\n",
    "\n",
    "- There is no \"formula\" to automatically resolve Simpson's paradox! Domain knowledge is important.\n",
    "- We've covered most of the primary DataFrame operations: subsetting, aggregating, joining, and transforming.\n",
    "\n",
    "### Next time\n",
    "\n",
    "Data cleaning: applying what we've already learned to real-world, messy data!"
   ]
  }
 ],
 "metadata": {
  "kernelspec": {
   "display_name": "Python 3 (ipykernel)",
   "language": "python",
   "name": "python3"
  },
  "language_info": {
   "codemirror_mode": {
    "name": "ipython",
    "version": 3
   },
   "file_extension": ".py",
   "mimetype": "text/x-python",
   "name": "python",
   "nbconvert_exporter": "python",
   "pygments_lexer": "ipython3",
   "version": "3.13.2"
  },
  "livereveal": {
   "scroll": true
  },
  "rise": {
   "transition": "none"
  }
 },
 "nbformat": 4,
 "nbformat_minor": 5
}
